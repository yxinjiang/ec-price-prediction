{
 "cells": [
  {
   "cell_type": "code",
   "execution_count": 9,
   "metadata": {},
   "outputs": [],
   "source": [
    "import logging\n",
    "import pandas as pd\n",
    "import numpy as np\n",
    "import matplotlib.pyplot as plt\n",
    "from sklearn.metrics import (mean_absolute_error, \n",
    "                             mean_squared_error, \n",
    "                             mean_absolute_percentage_error, \n",
    "                             median_absolute_error)\n",
    "import mlflow\n",
    "from mlflow.client import MlflowClient\n",
    "#plt.rcParams.update({'font.size': 22})\n",
    "\n",
    "import prophet\n",
    "from prophet import Prophet\n",
    "import kaggle\n",
    "from urllib.parse import urlparse\n"
   ]
  },
  {
   "cell_type": "code",
   "execution_count": 5,
   "metadata": {},
   "outputs": [],
   "source": [
    "def download_kaggle_dataset(\n",
    "        kaggle_dataset: str =\"pratyushakar/rossmann-store-sales\",\n",
    "        target_path = \"./\"\n",
    "    ) -> None:\n",
    "    api = kaggle.api\n",
    "    print(api.get_config_value('username'))\n",
    "    kaggle.api.dataset_download_files(kaggle_dataset, path=target_path, unzip=True, quiet=False)\n",
    "    \n",
    "def prep_store_data(df: pd.DataFrame, store_id: int = 4, store_open: int = 1) -> pd.DataFrame:\n",
    "    df['Date'] = pd.to_datetime(df['Date'])\n",
    "    df = df.rename(columns= {'Date': 'ds', 'Sales': 'y'})\n",
    "    df_store = df[\n",
    "        (df['Store'] == store_id) &\\\n",
    "        (df['Open'] == store_open)\n",
    "    ].reset_index(drop=True)\n",
    "    return df_store.sort_values('ds', ascending=True)   \n",
    "    \n",
    "\n",
    "def train_test_split_forecaster(\n",
    "    df: pd.DataFrame,\n",
    "    train_fraction: float \n",
    ")->tuple[pd.DataFrame, pd.DataFrame]:\n",
    "    # grab split data\n",
    "    train_index = int(train_fraction*df.shape[0])\n",
    "    df_train = df.copy().iloc[0:train_index]\n",
    "    df_test = df.copy().iloc[train_index:]\n",
    "    return df_train, df_test\n",
    "    \n",
    "    \n",
    "def train_forecaster(\n",
    "    df_train: pd.DataFrame,\n",
    "    seasonality: dict \n",
    ") -> prophet.forecaster.Prophet:\n",
    "    #create Prophet model\n",
    "    forecaster=Prophet(\n",
    "        yearly_seasonality=seasonality['yearly'],\n",
    "        weekly_seasonality=seasonality['weekly'],\n",
    "        daily_seasonality=seasonality['daily'],\n",
    "        interval_width = 0.95\n",
    "    )\n",
    "    forecaster.fit(df_train)\n",
    "    return forecaster\n",
    "\n",
    "def test_forecaster(\n",
    "    df_test: pd.DataFrame\n",
    ") -> None:\n",
    "    return None\n",
    "\n",
    "def forecast(\n",
    "    forecaster: prophet.forecaster.Prophet,\n",
    "    forecast_index: pd.DataFrame\n",
    ") -> pd.DataFrame:\n",
    "    return forecaster.predict(forecast_index)\n",
    "    \n",
    "    \n",
    "def train_predict(\n",
    "    df: pd.DataFrame, \n",
    "    train_fraction: float, \n",
    "    seasonality: dict\n",
    ") -> tuple[pd.DataFrame, pd.DataFrame, pd.DataFrame, int]:\n",
    "    \n",
    "    # grab split data\n",
    "    train_index = int(train_fraction*df.shape[0])\n",
    "    df_train = df.copy().iloc[0:train_index]\n",
    "    df_test = df.copy().iloc[train_index:]\n",
    "\n",
    "    #create Prophet model\n",
    "    model=Prophet(\n",
    "        yearly_seasonality=seasonality['yearly'],\n",
    "        weekly_seasonality=seasonality['weekly'],\n",
    "        daily_seasonality=seasonality['daily'],\n",
    "        interval_width = 0.95\n",
    "    )\n",
    "\n",
    "    # train and predict\n",
    "    model.fit(df_train)\n",
    "    predicted = model.predict(df_test)\n",
    "    return predicted, df_train, df_test, train_index\n",
    "\n",
    "\n",
    "# def plot_forecast(df_train: pd.DataFrame, df_test: pd.DataFrame, predicted: pd.DataFrame) -> None:\n",
    "#     fig, ax = plt.subplots(figsize=(20,10))\n",
    "#     df_test.plot(\n",
    "#         x='ds', \n",
    "#         y='y', \n",
    "#         ax=ax, \n",
    "#         label='Truth', \n",
    "#         linewidth=1, \n",
    "#         markersize=5, \n",
    "#         color='tab:blue',\n",
    "#         alpha=0.9, \n",
    "#         marker='o'\n",
    "#     )\n",
    "#     predicted.plot(\n",
    "#         x='ds', \n",
    "#         y='yhat', \n",
    "#         ax=ax, \n",
    "#         label='Prediction + 95% CI', \n",
    "#         linewidth=2, \n",
    "#         markersize=5, \n",
    "#         color='red'\n",
    "#     )\n",
    "#     ax.fill_between(\n",
    "#         x=predicted['ds'], \n",
    "#         y1=predicted['yhat_upper'], \n",
    "#         y2=predicted['yhat_lower'], \n",
    "#         alpha=0.15, \n",
    "#         color='red',\n",
    "#     )\n",
    "#     df_train.iloc[train_index-100:].plot(\n",
    "#         x='ds', \n",
    "#         y='y', \n",
    "#         ax=ax, \n",
    "#         color='tab:blue', \n",
    "#         label='_nolegend_', \n",
    "#         alpha=0.5, \n",
    "#         marker='o'\n",
    "#     )\n",
    "#     current_ytick_values = plt.gca().get_yticks()\n",
    "#     plt.gca().set_yticklabels(['{:,.0f}'.format(x) for x in current_ytick_values])\n",
    "#     ax.set_xlabel('Date')\n",
    "#     ax.set_ylabel('Sales')\n",
    "#     plt.tight_layout()\n",
    "#     plt.savefig('store_data_forecast.png')\n",
    "\n"
   ]
  },
  {
   "cell_type": "code",
   "execution_count": 6,
   "metadata": {},
   "outputs": [],
   "source": [
    "import os\n",
    "from dotenv import load_dotenv\n",
    "load_dotenv()\n",
    "\n",
    "MLFLOW_TRACKING_URI=os.getenv('MLFLOW_TRACKING_URI')\n",
    "MLFLOW_TRACKING_USERNAME=os.getenv('MLFLOW_TRACKING_USERNAME')\n",
    "MLFLOW_TRACKING_PASSWORD=os.getenv('MLFLOW_TRACKING_PASSWORD')"
   ]
  },
  {
   "cell_type": "code",
   "execution_count": 7,
   "metadata": {},
   "outputs": [
    {
     "name": "stderr",
     "output_type": "stream",
     "text": [
      "2024-08-07 11:25:26,563 - root - INFO - Defined MLFlowClient and set tracking URI.\n"
     ]
    }
   ],
   "source": [
    "import logging\n",
    "log_format = \"%(asctime)s - %(name)s - %(levelname)s - %(message)s\" \n",
    "logging.basicConfig(format = log_format, level = logging.INFO) \n",
    "\n",
    "\n",
    "mlflow.set_tracking_uri(MLFLOW_TRACKING_URI)\n",
    "client = MlflowClient(tracking_uri=MLFLOW_TRACKING_URI) \n",
    "logging.info(\"Defined MLFlowClient and set tracking URI.\")\n",
    "\n",
    "#mlflow.set_experiment(\"prophet_models_05042023\")\n",
    "#mlflow.autolog()\n",
    "import os\n",
    "import mlflow\n"
   ]
  },
  {
   "cell_type": "code",
   "execution_count": 17,
   "metadata": {},
   "outputs": [
    {
     "name": "stdout",
     "output_type": "stream",
     "text": [
      "1\n"
     ]
    }
   ],
   "source": [
    "def get_experiment_id(name):\n",
    "    exp = mlflow.get_experiment_by_name(name)\n",
    "    if exp is None:\n",
    "      exp_id = mlflow.create_experiment(name)\n",
    "      return exp_id\n",
    "    return exp.experiment_id\n",
    "\n",
    "\n",
    "exp_id = get_experiment_id(\"prophet-retail-forecaster\")\n",
    "print(exp_id)\n"
   ]
  },
  {
   "cell_type": "code",
   "execution_count": 18,
   "metadata": {},
   "outputs": [
    {
     "name": "stderr",
     "output_type": "stream",
     "text": [
      "2024-08-07 13:02:43,105 - root - INFO - Dataset found, reading into pandas dataframe.\n",
      "/var/folders/rj/64nmqpkj7j1dz_vk_9vdrqfw0000gn/T/ipykernel_84895/2216392365.py:6: DtypeWarning: Columns (7) have mixed types. Specify dtype option on import or set low_memory=False.\n",
      "  df = pd.read_csv(file_path + \"train.csv\")\n",
      "2024-08-07 13:02:49,338 - root - INFO - Training data retrieved.\n"
     ]
    }
   ],
   "source": [
    "# If data present, read it in, otherwise, download it \n",
    "#file_path = 'rossman_store_data/train.csv'\n",
    "file_path = \"./data/\"\n",
    "if os.path.exists(file_path):\n",
    "    logging.info('Dataset found, reading into pandas dataframe.')\n",
    "    df = pd.read_csv(file_path + \"train.csv\")\n",
    "else:\n",
    "    logging.info('Dataset not found, downloading ...')\n",
    "    download_kaggle_dataset(target_path=file_path)\n",
    "    logging.info('Reading dataset into pandas dataframe.')\n",
    "    df = pd.read_csv(file_path)   \n",
    "\n",
    "logging.info(\"Training data retrieved.\")"
   ]
  },
  {
   "cell_type": "code",
   "execution_count": 19,
   "metadata": {},
   "outputs": [
    {
     "name": "stderr",
     "output_type": "stream",
     "text": [
      "2024-08-07 13:02:49,887 - root - INFO - Started MLFlow run\n",
      "2024-08-07 13:02:50,088 - root - INFO - Transformed data\n",
      "2024/08/07 13:02:50 INFO mlflow.tracking.fluent: Autologging successfully enabled for sklearn.\n",
      "2024/08/07 13:02:50 WARNING mlflow.spark: With Pyspark >= 3.2, PYSPARK_PIN_THREAD environment variable must be set to false for Spark datasource autologging to work.\n",
      "2024/08/07 13:02:50 INFO mlflow.tracking.fluent: Autologging successfully enabled for pyspark.\n",
      "2024-08-07 13:02:50,287 - root - INFO - Splitting data\n",
      "2024-08-07 13:02:50,291 - root - INFO - Data split\n",
      "2024-08-07 13:02:50,293 - root - INFO - Training model\n",
      "2024-08-07 13:02:50,370 - cmdstanpy - DEBUG - input tempfile: /var/folders/rj/64nmqpkj7j1dz_vk_9vdrqfw0000gn/T/tmpo4kt847b/clpmcykp.json\n",
      "2024-08-07 13:02:50,397 - cmdstanpy - DEBUG - input tempfile: /var/folders/rj/64nmqpkj7j1dz_vk_9vdrqfw0000gn/T/tmpo4kt847b/zouv1_yo.json\n",
      "2024-08-07 13:02:50,405 - cmdstanpy - DEBUG - idx 0\n",
      "2024-08-07 13:02:50,406 - cmdstanpy - DEBUG - running CmdStan, num_threads: None\n",
      "2024-08-07 13:02:50,412 - cmdstanpy - DEBUG - CmdStan args: ['/Users/mac-zhou/miniconda3/envs/mlflow-env/lib/python3.10/site-packages/prophet/stan_model/prophet_model.bin', 'random', 'seed=31814', 'data', 'file=/var/folders/rj/64nmqpkj7j1dz_vk_9vdrqfw0000gn/T/tmpo4kt847b/clpmcykp.json', 'init=/var/folders/rj/64nmqpkj7j1dz_vk_9vdrqfw0000gn/T/tmpo4kt847b/zouv1_yo.json', 'output', 'file=/var/folders/rj/64nmqpkj7j1dz_vk_9vdrqfw0000gn/T/tmpo4kt847b/prophet_model9v_i4hub/prophet_model-20240807130250.csv', 'method=optimize', 'algorithm=lbfgs', 'iter=10000']\n",
      "13:02:50 - cmdstanpy - INFO - Chain [1] start processing\n",
      "2024-08-07 13:02:50,413 - cmdstanpy - INFO - Chain [1] start processing\n",
      "13:02:50 - cmdstanpy - INFO - Chain [1] done processing\n",
      "2024-08-07 13:02:50,854 - cmdstanpy - INFO - Chain [1] done processing\n",
      "2024-08-07 13:02:50,867 - root - INFO - Model trained\n",
      "2024-08-07 13:02:58,599 - root - INFO - Logged model\n",
      "/Users/mac-zhou/miniconda3/envs/mlflow-env/lib/python3.10/site-packages/sklearn/metrics/_regression.py:483: FutureWarning: 'squared' is deprecated in version 1.4 and will be removed in 1.6. To calculate the root mean squared error, use the function'root_mean_squared_error'.\n",
      "  warnings.warn(\n",
      "Registered model 'prophet-retail-forecaster-store-3' already exists. Creating a new version of this model...\n",
      "2024/08/07 13:03:02 INFO mlflow.store.model_registry.abstract_store: Waiting up to 300 seconds for model version to finish creation. Model name: prophet-retail-forecaster-store-3, version 2\n",
      "Created version '2' of model 'prophet-retail-forecaster-store-3'.\n",
      "2024-08-07 13:03:02,035 - root - INFO - Model registered\n",
      "/var/folders/rj/64nmqpkj7j1dz_vk_9vdrqfw0000gn/T/ipykernel_84895/3910086232.py:74: FutureWarning: ``mlflow.tracking.client.MlflowClient.transition_model_version_stage`` is deprecated since 2.9.0. Model registry stages will be removed in a future major release. To learn more about the deprecation of model registry stages, see our migration guide here: https://mlflow.org/docs/2.11.3/model-registry.html#migrating-from-stages\n",
      "  client.transition_model_version_stage(\n",
      "2024-08-07 13:03:02,489 - root - INFO - Model transitioned to prod stage\n",
      "2024-08-07 13:03:02,848 - root - INFO - Started MLFlow run\n",
      "2024-08-07 13:03:02,948 - root - INFO - Transformed data\n",
      "2024/08/07 13:03:03 INFO mlflow.tracking.fluent: Autologging successfully enabled for sklearn.\n",
      "2024/08/07 13:03:03 WARNING mlflow.spark: With Pyspark >= 3.2, PYSPARK_PIN_THREAD environment variable must be set to false for Spark datasource autologging to work.\n",
      "2024/08/07 13:03:03 INFO mlflow.tracking.fluent: Autologging successfully enabled for pyspark.\n",
      "2024-08-07 13:03:03,037 - root - INFO - Splitting data\n",
      "2024-08-07 13:03:03,041 - root - INFO - Data split\n",
      "2024-08-07 13:03:03,042 - root - INFO - Training model\n",
      "2024-08-07 13:03:03,079 - cmdstanpy - DEBUG - input tempfile: /var/folders/rj/64nmqpkj7j1dz_vk_9vdrqfw0000gn/T/tmpo4kt847b/5f9axafo.json\n",
      "2024-08-07 13:03:03,097 - cmdstanpy - DEBUG - input tempfile: /var/folders/rj/64nmqpkj7j1dz_vk_9vdrqfw0000gn/T/tmpo4kt847b/l5zk0nv6.json\n",
      "2024-08-07 13:03:03,100 - cmdstanpy - DEBUG - idx 0\n",
      "2024-08-07 13:03:03,100 - cmdstanpy - DEBUG - running CmdStan, num_threads: None\n",
      "2024-08-07 13:03:03,103 - cmdstanpy - DEBUG - CmdStan args: ['/Users/mac-zhou/miniconda3/envs/mlflow-env/lib/python3.10/site-packages/prophet/stan_model/prophet_model.bin', 'random', 'seed=22425', 'data', 'file=/var/folders/rj/64nmqpkj7j1dz_vk_9vdrqfw0000gn/T/tmpo4kt847b/5f9axafo.json', 'init=/var/folders/rj/64nmqpkj7j1dz_vk_9vdrqfw0000gn/T/tmpo4kt847b/l5zk0nv6.json', 'output', 'file=/var/folders/rj/64nmqpkj7j1dz_vk_9vdrqfw0000gn/T/tmpo4kt847b/prophet_model0o4k_evx/prophet_model-20240807130303.csv', 'method=optimize', 'algorithm=lbfgs', 'iter=10000']\n",
      "13:03:03 - cmdstanpy - INFO - Chain [1] start processing\n",
      "2024-08-07 13:03:03,104 - cmdstanpy - INFO - Chain [1] start processing\n",
      "13:03:03 - cmdstanpy - INFO - Chain [1] done processing\n",
      "2024-08-07 13:03:03,163 - cmdstanpy - INFO - Chain [1] done processing\n",
      "2024-08-07 13:03:03,172 - root - INFO - Model trained\n",
      "2024-08-07 13:03:10,362 - root - INFO - Logged model\n",
      "/Users/mac-zhou/miniconda3/envs/mlflow-env/lib/python3.10/site-packages/sklearn/metrics/_regression.py:483: FutureWarning: 'squared' is deprecated in version 1.4 and will be removed in 1.6. To calculate the root mean squared error, use the function'root_mean_squared_error'.\n",
      "  warnings.warn(\n",
      "Registered model 'prophet-retail-forecaster-store-4' already exists. Creating a new version of this model...\n",
      "2024/08/07 13:03:13 INFO mlflow.store.model_registry.abstract_store: Waiting up to 300 seconds for model version to finish creation. Model name: prophet-retail-forecaster-store-4, version 2\n",
      "Created version '2' of model 'prophet-retail-forecaster-store-4'.\n",
      "2024-08-07 13:03:13,263 - root - INFO - Model registered\n",
      "/var/folders/rj/64nmqpkj7j1dz_vk_9vdrqfw0000gn/T/ipykernel_84895/3910086232.py:74: FutureWarning: ``mlflow.tracking.client.MlflowClient.transition_model_version_stage`` is deprecated since 2.9.0. Model registry stages will be removed in a future major release. To learn more about the deprecation of model registry stages, see our migration guide here: https://mlflow.org/docs/2.11.3/model-registry.html#migrating-from-stages\n",
      "  client.transition_model_version_stage(\n",
      "2024-08-07 13:03:13,600 - root - INFO - Model transitioned to prod stage\n",
      "2024-08-07 13:03:14,003 - root - INFO - Started MLFlow run\n",
      "2024-08-07 13:03:14,139 - root - INFO - Transformed data\n",
      "2024/08/07 13:03:14 INFO mlflow.tracking.fluent: Autologging successfully enabled for sklearn.\n",
      "2024/08/07 13:03:14 WARNING mlflow.spark: With Pyspark >= 3.2, PYSPARK_PIN_THREAD environment variable must be set to false for Spark datasource autologging to work.\n",
      "2024/08/07 13:03:14 INFO mlflow.tracking.fluent: Autologging successfully enabled for pyspark.\n",
      "2024-08-07 13:03:14,241 - root - INFO - Splitting data\n",
      "2024-08-07 13:03:14,245 - root - INFO - Data split\n",
      "2024-08-07 13:03:14,246 - root - INFO - Training model\n",
      "2024-08-07 13:03:14,295 - cmdstanpy - DEBUG - input tempfile: /var/folders/rj/64nmqpkj7j1dz_vk_9vdrqfw0000gn/T/tmpo4kt847b/jdtg_3ex.json\n",
      "2024-08-07 13:03:14,315 - cmdstanpy - DEBUG - input tempfile: /var/folders/rj/64nmqpkj7j1dz_vk_9vdrqfw0000gn/T/tmpo4kt847b/6qfg_5a6.json\n",
      "2024-08-07 13:03:14,320 - cmdstanpy - DEBUG - idx 0\n",
      "2024-08-07 13:03:14,321 - cmdstanpy - DEBUG - running CmdStan, num_threads: None\n",
      "2024-08-07 13:03:14,321 - cmdstanpy - DEBUG - CmdStan args: ['/Users/mac-zhou/miniconda3/envs/mlflow-env/lib/python3.10/site-packages/prophet/stan_model/prophet_model.bin', 'random', 'seed=7398', 'data', 'file=/var/folders/rj/64nmqpkj7j1dz_vk_9vdrqfw0000gn/T/tmpo4kt847b/jdtg_3ex.json', 'init=/var/folders/rj/64nmqpkj7j1dz_vk_9vdrqfw0000gn/T/tmpo4kt847b/6qfg_5a6.json', 'output', 'file=/var/folders/rj/64nmqpkj7j1dz_vk_9vdrqfw0000gn/T/tmpo4kt847b/prophet_modeljygjuk0q/prophet_model-20240807130314.csv', 'method=optimize', 'algorithm=lbfgs', 'iter=10000']\n",
      "13:03:14 - cmdstanpy - INFO - Chain [1] start processing\n",
      "2024-08-07 13:03:14,324 - cmdstanpy - INFO - Chain [1] start processing\n",
      "13:03:14 - cmdstanpy - INFO - Chain [1] done processing\n",
      "2024-08-07 13:03:14,443 - cmdstanpy - INFO - Chain [1] done processing\n",
      "2024-08-07 13:03:14,455 - root - INFO - Model trained\n",
      "2024-08-07 13:03:22,121 - root - INFO - Logged model\n",
      "/Users/mac-zhou/miniconda3/envs/mlflow-env/lib/python3.10/site-packages/sklearn/metrics/_regression.py:483: FutureWarning: 'squared' is deprecated in version 1.4 and will be removed in 1.6. To calculate the root mean squared error, use the function'root_mean_squared_error'.\n",
      "  warnings.warn(\n",
      "Registered model 'prophet-retail-forecaster-store-10' already exists. Creating a new version of this model...\n",
      "2024/08/07 13:03:24 INFO mlflow.store.model_registry.abstract_store: Waiting up to 300 seconds for model version to finish creation. Model name: prophet-retail-forecaster-store-10, version 2\n",
      "Created version '2' of model 'prophet-retail-forecaster-store-10'.\n",
      "2024-08-07 13:03:24,719 - root - INFO - Model registered\n",
      "/var/folders/rj/64nmqpkj7j1dz_vk_9vdrqfw0000gn/T/ipykernel_84895/3910086232.py:74: FutureWarning: ``mlflow.tracking.client.MlflowClient.transition_model_version_stage`` is deprecated since 2.9.0. Model registry stages will be removed in a future major release. To learn more about the deprecation of model registry stages, see our migration guide here: https://mlflow.org/docs/2.11.3/model-registry.html#migrating-from-stages\n",
      "  client.transition_model_version_stage(\n",
      "2024-08-07 13:03:25,049 - root - INFO - Model transitioned to prod stage\n"
     ]
    }
   ],
   "source": [
    "for store_id in ['3', '4', '10']:\n",
    "    with mlflow.start_run(experiment_id=exp_id):\n",
    "        logging.info(\"Started MLFlow run\")\n",
    "        # Transform dataset in preparation for feeding to Prophet\n",
    "\n",
    "        df_transformed = prep_store_data(df, store_id=int(store_id))\n",
    "        logging.info(\"Transformed data\")\n",
    "\n",
    "        model_name = f\"prophet-retail-forecaster-store-{store_id}\"\n",
    "        mlflow.autolog()\n",
    "        \n",
    "        # Define main parameters for modelling\n",
    "        seasonality = {\n",
    "            'yearly': True,\n",
    "            'weekly': True,\n",
    "            'daily': False\n",
    "        }\n",
    "        \n",
    "        logging.info(\"Splitting data\")\n",
    "        # Split the data\n",
    "        df_train, df_test = train_test_split_forecaster(df=df_transformed, train_fraction=0.75)\n",
    "        logging.info(\"Data split\")\n",
    "        \n",
    "        # Train the model\n",
    "        logging.info(\"Training model\")\n",
    "        forecaster = train_forecaster(df_train=df_train, seasonality=seasonality)\n",
    "        run_id = mlflow.active_run().info.run_id\n",
    "        logging.info(\"Model trained\")\n",
    "        \n",
    "\n",
    "        tracking_url_type_store = urlparse(mlflow.get_tracking_uri()).scheme\n",
    "        if tracking_url_type_store != \"file\":\n",
    "            # Register the model\n",
    "            # There are other ways to use the Model Registry, which depends on the use case,\n",
    "            # please refer to the doc for more information:\n",
    "            # https://mlflow.org/docs/latest/model-registry.html#api-workflow\n",
    "            mlflow.prophet.log_model(forecaster, artifact_path=\"model\")#, registered_model_name=model_name\n",
    "        else:\n",
    "            mlflow.prophet.log_model(forecaster, \"model\")        \n",
    "\n",
    "\n",
    "        #mlflow.prophet.log_model(forecaster, artifact_path=\"model\")\n",
    "        #mlflow.prophet.autolog(registered_model_name=\"<model name>\")\n",
    "        logging.info(\"Logged model\")\n",
    "        \n",
    "        mlflow.log_params(seasonality)\n",
    "        mlflow.log_metrics(\n",
    "            {\n",
    "                'rmse': mean_squared_error(y_true=df_test['y'], y_pred=forecaster.predict(df_test)['yhat'], squared=False),\n",
    "                'mean_abs_perc_error': mean_absolute_percentage_error(y_true=df_test['y'], y_pred=forecaster.predict(df_test)['yhat']),\n",
    "                'mean_abs_error': mean_absolute_error(y_true=df_test['y'], y_pred=forecaster.predict(df_test)['yhat']),\n",
    "                'median_abs_error': median_absolute_error(y_true=df_test['y'], y_pred=forecaster.predict(df_test)['yhat'])\n",
    "            }\n",
    "        )\n",
    "\n",
    "\n",
    "    # The default path where the MLflow autologging function stores the model\n",
    "    artifact_path = \"model\"\n",
    "    model_uri = \"runs:/{run_id}/{artifact_path}\".format(run_id=run_id, artifact_path=artifact_path)\n",
    "    \n",
    "    # Register the model\n",
    "    model_details = mlflow.register_model(model_uri=model_uri, name=model_name)\n",
    "    logging.info(\"Model registered\")\n",
    "    \n",
    "    # # Create new model version\n",
    "    # mv = client.create_model_version(\n",
    "    #     model_name, \n",
    "    #     model_uri, \n",
    "    #     run_id, \n",
    "    #     description=\"Prophet model for item demand.\") \n",
    "    # logging.info(\"Model version created\")\n",
    "    \n",
    "    # Transition model to production\n",
    "    client.transition_model_version_stage(\n",
    "    name=model_details.name,\n",
    "    version=model_details.version,\n",
    "    stage='production',\n",
    "    )\n",
    "    logging.info(\"Model transitioned to prod stage\")"
   ]
  },
  {
   "cell_type": "code",
   "execution_count": 20,
   "metadata": {},
   "outputs": [
    {
     "name": "stdout",
     "output_type": "stream",
     "text": [
      "[<Experiment: artifact_location='mlflow-artifacts:/bc51a6fea6ff45bf8805494fddd9f863', creation_time=1723006903238, experiment_id='1', last_update_time=1723006903238, lifecycle_stage='active', name='prophet-retail-forecaster', tags={}>,\n",
      " <Experiment: artifact_location='mlflow-artifacts:/c4405e794d6c46929b8dbab6e1f66f13', creation_time=1723002134464, experiment_id='0', last_update_time=1723002134464, lifecycle_stage='active', name='Default', tags={}>]\n",
      "{'lifecycle_stage': 'active', 'name': 'Default'}\n"
     ]
    }
   ],
   "source": [
    "from pprint import pprint\n",
    "\n",
    "all_experiments = client.search_experiments()\n",
    "pprint(all_experiments)\n",
    "default_experiment = [\n",
    "    {\"name\": experiment.name, \"lifecycle_stage\": experiment.lifecycle_stage}\n",
    "    for experiment in all_experiments\n",
    "    if experiment.name == \"Default\"\n",
    "][0]\n",
    "\n",
    "pprint(default_experiment)"
   ]
  },
  {
   "cell_type": "code",
   "execution_count": null,
   "metadata": {},
   "outputs": [],
   "source": []
  },
  {
   "cell_type": "code",
   "execution_count": 22,
   "metadata": {},
   "outputs": [
    {
     "name": "stdout",
     "output_type": "stream",
     "text": [
      "name=prophet-retail-forecaster-store-10; run_id=f8e289b11cac44d9b1650ab4c14368b9; version=2, stage=Production\n",
      "name=prophet-retail-forecaster-store-3; run_id=8baecf4b244b48e48d6ca15477818ece; version=2, stage=Production\n",
      "name=prophet-retail-forecaster-store-4; run_id=36177d20c70d4a51833d4bacf03e5d78; version=2, stage=Production\n"
     ]
    }
   ],
   "source": [
    "# create a client to access the MLflow tracking server\n",
    "client = mlflow.MlflowClient()\n",
    "\n",
    "store_id = 4\n",
    "model_name = f\"prophet-retail-forecaster-store-\"\n",
    "# loop through all registered models\n",
    "# NOTE: `filter_string` should be optional, but leaving it as `None` failed to work.\n",
    "# Instead, using `\"name LIKE '%'\"` will match all model names\n",
    "for model in client.search_registered_models(filter_string=\"name LIKE 'prophet-retail-forecaster-store-%'\"):\n",
    "    # loop through the latest versions for each stage of a registered model\n",
    "    for model_version in model.latest_versions:\n",
    "        print(f\"name={model_version.name}; run_id={model_version.run_id}; version={model_version.version}, stage={model_version.current_stage}\")"
   ]
  },
  {
   "cell_type": "code",
   "execution_count": 26,
   "metadata": {},
   "outputs": [
    {
     "data": {
      "text/plain": [
       "'2'"
      ]
     },
     "execution_count": 26,
     "metadata": {},
     "output_type": "execute_result"
    }
   ],
   "source": [
    "model_name = f\"prophet-retail-forecaster-store-4\"\n",
    "latest_mv = client.get_latest_versions(model_name, stages=['Production'])[0]\n",
    "model_production_uri = client.get_model_version_download_uri(name=model_name, version=latest_mv.version)"
   ]
  },
  {
   "cell_type": "code",
   "execution_count": 32,
   "metadata": {},
   "outputs": [
    {
     "name": "stderr",
     "output_type": "stream",
     "text": [
      "/Users/mac-zhou/miniconda3/envs/mlflow-env/lib/python3.10/site-packages/mlflow/store/artifact/utils/models.py:32: FutureWarning: ``mlflow.tracking.client.MlflowClient.get_latest_versions`` is deprecated since 2.9.0. Model registry stages will be removed in a future major release. To learn more about the deprecation of model registry stages, see our migration guide here: https://mlflow.org/docs/2.11.3/model-registry.html#migrating-from-stages\n",
      "  latest = client.get_latest_versions(name, None if stage is None else [stage])\n"
     ]
    },
    {
     "data": {
      "application/vnd.jupyter.widget-view+json": {
       "model_id": "c316e74508d341239dad08eaf46e7fe4",
       "version_major": 2,
       "version_minor": 0
      },
      "text/plain": [
       "Downloading artifacts:   0%|          | 0/9 [00:00<?, ?it/s]"
      ]
     },
     "metadata": {},
     "output_type": "display_data"
    },
    {
     "data": {
      "text/plain": [
       "mlflow.pyfunc.loaded_model:\n",
       "  artifact_path: model\n",
       "  flavor: mlflow.prophet\n",
       "  run_id: 36177d20c70d4a51833d4bacf03e5d78"
      ]
     },
     "execution_count": 32,
     "metadata": {},
     "output_type": "execute_result"
    }
   ],
   "source": [
    "mlflow.set_tracking_uri(MLFLOW_TRACKING_URI)\n",
    "\n",
    "client = MlflowClient(tracking_uri=MLFLOW_TRACKING_URI)\n",
    "def get_production_model(store_id:int):\n",
    "    model_name = f\"prophet-retail-forecaster-store-{store_id}\"\n",
    "    model =mlflow.pyfunc.load_model(model_uri=f\"models:/{model_name}/production\")\n",
    "    return model\n",
    "\n"
   ]
  }
 ],
 "metadata": {
  "kernelspec": {
   "display_name": "Python 3",
   "language": "python",
   "name": "python3"
  },
  "language_info": {
   "codemirror_mode": {
    "name": "ipython",
    "version": 3
   },
   "file_extension": ".py",
   "mimetype": "text/x-python",
   "name": "python",
   "nbconvert_exporter": "python",
   "pygments_lexer": "ipython3",
   "version": "3.11.5"
  }
 },
 "nbformat": 4,
 "nbformat_minor": 2
}
